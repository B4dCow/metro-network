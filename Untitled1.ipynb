{
 "cells": [
  {
   "cell_type": "code",
   "execution_count": 112,
   "metadata": {
    "collapsed": false
   },
   "outputs": [
    {
     "name": "stdout",
     "output_type": "stream",
     "text": [
      "['410', '411', '713', '714']\n"
     ]
    }
   ],
   "source": [
    "import csv\n",
    "import io\n",
    "import collections\n",
    "\n",
    "import matplotlib.pyplot as plt\n",
    "import networkx as nx\n",
    "\n",
    "samdasu = {}\n",
    "with io.open('seoulmetro.csv', mode='r', encoding='utf-8') as csvfile:\n",
    "    spamreader = csv.reader(csvfile, delimiter=' ', quotechar=',')\n",
    "    next(spamreader)\n",
    "    for row in spamreader:\n",
    "        str = \"\\\" \".join(row)\n",
    "        str = str.replace('\\\"','')\n",
    "        obj = str.rstrip().split(',')\n",
    "        \n",
    "        li = []\n",
    "        li.append(obj[1])\n",
    "        li.append(obj[2])\n",
    "        samdasu[obj[3]] = li\n",
    "\n",
    "G = nx.Graph()        \n",
    "od = collections.OrderedDict(sorted(samdasu.items()))\n",
    "\n",
    "tempEdge = \"\"\n",
    "for fr,values in od.items():\n",
    "    G.add_node(fr,station=values[0])\n",
    "    \n",
    "    if not tempEdge :        \n",
    "        pass\n",
    "    else:\n",
    "        if fr[0] == tempEdge[0]:\n",
    "            G.add_edge(tempEdge,fr,weight=2)\n",
    "        \n",
    "    tempEdge = fr\n",
    "transfer = {}\n",
    "temp_name = \"\"\n",
    "for k, v in od.items():\n",
    "    \n",
    "    if not temp_name :        \n",
    "        pass\n",
    "    else:\n",
    "        for k2, v2 in od.items():\n",
    "            transfer.setdefault(v2[0], set()).add(k2)\n",
    "           \n",
    "    temp_name=v[0]\n",
    "    \n",
    "transfer_list = [key for key, values in transfer.items() if len(values) > 1]\n",
    "\n",
    "transfer_station = {}\n",
    "\n",
    "\n",
    "for station in transfer_list:\n",
    "    line_list = []\n",
    "    for k, v in od.items():\n",
    "        if station == v[0]:\n",
    "            line_list.append(k)\n",
    "    transfer_station[station]=line_list\n",
    "\n",
    "for key, value in transfer_station.items():\n",
    "    temp_value = \"\"\n",
    "    for i in value:\n",
    "        if not temp_value :        \n",
    "            pass\n",
    "        else:\n",
    "            G.add_edge(temp_value,i,weight=4)\n",
    "        temp_value = i\n",
    "\n",
    "print(nx.shortest_path(G,source=\"410\",target=\"714\"))"
   ]
  },
  {
   "cell_type": "code",
   "execution_count": null,
   "metadata": {
    "collapsed": true
   },
   "outputs": [],
   "source": []
  }
 ],
 "metadata": {
  "anaconda-cloud": {},
  "kernelspec": {
   "display_name": "Python [conda root]",
   "language": "python",
   "name": "conda-root-py"
  },
  "language_info": {
   "codemirror_mode": {
    "name": "ipython",
    "version": 3
   },
   "file_extension": ".py",
   "mimetype": "text/x-python",
   "name": "python",
   "nbconvert_exporter": "python",
   "pygments_lexer": "ipython3",
   "version": "3.5.2"
  }
 },
 "nbformat": 4,
 "nbformat_minor": 1
}
